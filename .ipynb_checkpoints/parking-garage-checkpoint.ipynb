{
 "cells": [
  {
   "cell_type": "code",
   "execution_count": 23,
   "id": "6a688d29",
   "metadata": {},
   "outputs": [
    {
     "ename": "TypeError",
     "evalue": "'int' object is not callable",
     "output_type": "error",
     "traceback": [
      "\u001b[0;31m---------------------------------------------------------------------------\u001b[0m",
      "\u001b[0;31mTypeError\u001b[0m                                 Traceback (most recent call last)",
      "Input \u001b[0;32mIn [23]\u001b[0m, in \u001b[0;36m<cell line: 37>\u001b[0;34m()\u001b[0m\n\u001b[1;32m     34\u001b[0m             \u001b[38;5;28mprint\u001b[39m(\u001b[38;5;124mf\u001b[39m\u001b[38;5;124m'\u001b[39m\u001b[38;5;124mThere are \u001b[39m\u001b[38;5;132;01m{\u001b[39;00mtickets\u001b[38;5;132;01m}\u001b[39;00m\u001b[38;5;124m tickets available\u001b[39m\u001b[38;5;124m'\u001b[39m)\n\u001b[1;32m     36\u001b[0m audi \u001b[38;5;241m=\u001b[39m ParkingGarage(\u001b[38;5;241m100\u001b[39m, \u001b[38;5;241m100\u001b[39m, {\u001b[38;5;124m'\u001b[39m\u001b[38;5;124mpaid\u001b[39m\u001b[38;5;124m'\u001b[39m \u001b[38;5;241m==\u001b[39m \u001b[38;5;28;01mTrue\u001b[39;00m})\n\u001b[0;32m---> 37\u001b[0m \u001b[38;5;28mprint\u001b[39m(\u001b[43maudi\u001b[49m\u001b[38;5;241;43m.\u001b[39;49m\u001b[43mparkingSpaces\u001b[49m\u001b[43m(\u001b[49m\u001b[43m)\u001b[49m)\n",
      "\u001b[0;31mTypeError\u001b[0m: 'int' object is not callable"
     ]
    }
   ],
   "source": [
    "class ParkingGarage():\n",
    "    \n",
    "    def __init__(self, tickets, parkingSpaces, currentTicket):\n",
    "        self.tickets = tickets\n",
    "        self.parkingSpaces = parkingSpaces\n",
    "        self.currentTicket = currentTicket\n",
    "    \n",
    "    def takeTicket(self):\n",
    "        print(\"Please take your ticket!\")\n",
    "        self.tickets -= 1\n",
    "        print(f'There are {tickets} tickets available')\n",
    "        self.parkingSpaces -= 1\n",
    "        print(f'There are {parkingSpaces} parking spaces available')\n",
    "        \n",
    "    def payForParking(self):\n",
    "        payment = int(input(\"Please enter payment amount: \"))\n",
    "        \n",
    "        if payment_complete != 0:\n",
    "            print(\"Your ticket has been paid for. You have 15 minutes to leave.\")\n",
    "            currentTicket['paid'] == True\n",
    "            \n",
    "        else:\n",
    "            print(\"Please pay for your ticket when you leave.\")\n",
    "            \n",
    "    def leaveGarage(self):\n",
    "        if currentTicket['paid'] == True:\n",
    "            print(\"Thank You! Have a nice day\")\n",
    "        else:\n",
    "            later_payment = int(input(\"Please enter payment amount: \"))\n",
    "            print(\"Thank you, have a nice day!\")\n",
    "            self.parkingSpaces += 1\n",
    "            print(f'There are {parkingSpaces} parking spaces available')\n",
    "            self.tickets += 1\n",
    "            print(f'There are {tickets} tickets available')\n",
    "\n",
    "audi = ParkingGarage(100, 100, {'paid' == True})\n",
    "print(audi.parkingSpaces())"
   ]
  }
 ],
 "metadata": {
  "kernelspec": {
   "display_name": "Python 3 (ipykernel)",
   "language": "python",
   "name": "python3"
  },
  "language_info": {
   "codemirror_mode": {
    "name": "ipython",
    "version": 3
   },
   "file_extension": ".py",
   "mimetype": "text/x-python",
   "name": "python",
   "nbconvert_exporter": "python",
   "pygments_lexer": "ipython3",
   "version": "3.9.12"
  }
 },
 "nbformat": 4,
 "nbformat_minor": 5
}
