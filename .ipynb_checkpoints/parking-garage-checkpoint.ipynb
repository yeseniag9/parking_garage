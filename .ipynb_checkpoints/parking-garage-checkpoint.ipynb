{
 "cells": [
  {
   "cell_type": "code",
   "execution_count": 44,
   "id": "396db3b5",
   "metadata": {},
   "outputs": [],
   "source": [
    "class ParkingGarage():\n",
    "    \n",
    "    def __init__(self, tickets, parkingSpaces, currentTicket):\n",
    "        self.tickets = tickets\n",
    "        self.parkingSpaces = parkingSpaces\n",
    "        self.currentTicket = currentTicket\n",
    "        \n",
    "    def takeTicket(self):\n",
    "        print(\"Please take your ticket!\")\n",
    "            \n",
    "        for i in range(len(self.tickets)):\n",
    "            self.tickets[i] = self.tickets[i] - 1\n",
    "            \n",
    "        for items in self.tickets:\n",
    "            print(f'There are {items} tickets available')\n",
    "            \n",
    "        for i in range(len(self.parkingSpaces)):\n",
    "            self.parkingSpaces[i] = self.parkingSpaces[i] - 1\n",
    "            \n",
    "        for items in self.parkingSpaces:\n",
    "            print(f'There are {items} parking spaces available')\n",
    "        \n",
    "    def payForParking(self):\n",
    "        payment = int(input(\"Please enter payment amount: \"))\n",
    "        \n",
    "        if payment != 0:\n",
    "            print(\"Your ticket has been paid for. You have 15 minutes to leave.\")\n",
    "            self.currentTicket['paid'] ='True'\n",
    "        else:\n",
    "            print(\"Please pay for your ticket when you leave.\")\n",
    "                \n",
    "    def leaveGarage(self):\n",
    "        if self.currentTicket['paid'] == 'True':\n",
    "            print(\"Thank you! Have a nice day\")\n",
    "        else:\n",
    "            later_payment = input(\"Please enter your payment amount: \")\n",
    "            print(\"Thank you, have a nice day!\")\n",
    "            \n",
    "            for i in range(len(self.tickets)):\n",
    "                self.tickets[i] = self.tickets[i] + 1\n",
    "                \n",
    "            for items in self.tickets:\n",
    "                 print(f'There are {items} tickets available')\n",
    "                \n",
    "            for i in range(len(self.parkingSpaces)):\n",
    "                self.parkingSpaces[i] = self.parkingSpaces[i] + 1\n",
    "                \n",
    "            for items in self.parkingSpaces:\n",
    "                print(f'There are {items} parking spaces available')"
   ]
  },
  {
   "cell_type": "code",
   "execution_count": 43,
   "id": "cfa6670c",
   "metadata": {},
   "outputs": [
    {
     "name": "stdout",
     "output_type": "stream",
     "text": [
      "Would you like a ticket? yes\n",
      "Please take your ticket!\n",
      "There are 99 tickets available\n",
      "There are 99 parking spaces available\n",
      "Please enter payment amount: 0\n",
      "Please pay for your ticket when you leave.\n",
      "Please enter your payment amount: 10\n",
      "Thank you, have a nice day!\n",
      "There are 100 tickets available\n",
      "There are 100 parking spaces available\n",
      "Would you like a ticket? no\n"
     ]
    }
   ],
   "source": [
    "my_garage = ParkingGarage([100], [100], {'paid':'False'})\n",
    "\n",
    "def run_parkingGarage():\n",
    "    while True:\n",
    "        response = input(\"Would you like a ticket? \")\n",
    "        \n",
    "        if response.lower() == 'yes':\n",
    "            my_garage.takeTicket() \n",
    "            my_garage.payForParking()\n",
    "            my_garage.leaveGarage()\n",
    "        else:\n",
    "            break\n",
    "        \n",
    "run_parkingGarage()"
   ]
  }
 ],
 "metadata": {
  "kernelspec": {
   "display_name": "Python 3 (ipykernel)",
   "language": "python",
   "name": "python3"
  },
  "language_info": {
   "codemirror_mode": {
    "name": "ipython",
    "version": 3
   },
   "file_extension": ".py",
   "mimetype": "text/x-python",
   "name": "python",
   "nbconvert_exporter": "python",
   "pygments_lexer": "ipython3",
   "version": "3.9.12"
  }
 },
 "nbformat": 4,
 "nbformat_minor": 5
}
